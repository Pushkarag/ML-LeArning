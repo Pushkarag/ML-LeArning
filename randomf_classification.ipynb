{
 "cells": [
  {
   "cell_type": "code",
   "execution_count": 10,
   "id": "2644e381",
   "metadata": {},
   "outputs": [],
   "source": [
    "from sklearn.datasets import load_breast_cancer\n",
    "from sklearn.ensemble import RandomForestClassifier\n",
    "from sklearn.metrics import accuracy_score\n",
    "import pandas as pd\n",
    "import matplotlib.pyplot as plt "
   ]
  },
  {
   "cell_type": "code",
   "execution_count": 3,
   "id": "a8184e12",
   "metadata": {},
   "outputs": [],
   "source": [
    "data = load_breast_cancer()\n",
    "X, y = data.data, data.target"
   ]
  },
  {
   "cell_type": "code",
   "execution_count": 19,
   "id": "21322468",
   "metadata": {},
   "outputs": [],
   "source": [
    "\n",
    "oob_error=[]\n",
    "n_trees=list(range(10,201,10))"
   ]
  },
  {
   "cell_type": "code",
   "execution_count": 18,
   "id": "900bc7bf",
   "metadata": {},
   "outputs": [],
   "source": [
    "\n",
    "rf = RandomForestClassifier(\n",
    "        n_estimators=n,        # number of trees\n",
    "        oob_score=True,        # enable OOB\n",
    "        random_state=42,\n",
    "        n_jobs=-1\n",
    "    )\n",
    "\n"
   ]
  },
  {
   "cell_type": "code",
   "execution_count": 20,
   "id": "ac1f5421",
   "metadata": {},
   "outputs": [],
   "source": [
    "rf.fit(X, y)\n",
    "oob_error.append(1-rf.oob_score)"
   ]
  },
  {
   "cell_type": "code",
   "execution_count": 21,
   "id": "9a2176fe",
   "metadata": {},
   "outputs": [
    {
     "name": "stdout",
     "output_type": "stream",
     "text": [
      "OOB error: [0]\n",
      "length of n_trees: 20\n"
     ]
    }
   ],
   "source": [
    "print(\"OOB error:\",oob_error)\n",
    "print(\"length of n_trees:\",len(n_trees))"
   ]
  },
  {
   "cell_type": "code",
   "execution_count": 7,
   "id": "5f2778d3",
   "metadata": {},
   "outputs": [],
   "source": [
    "y_pred = rf.predict(X)\n"
   ]
  },
  {
   "cell_type": "code",
   "execution_count": 8,
   "id": "5d6d603d",
   "metadata": {},
   "outputs": [
    {
     "name": "stdout",
     "output_type": "stream",
     "text": [
      "Accuracy on Training Data: 1.0\n"
     ]
    }
   ],
   "source": [
    "print(\"Accuracy on Training Data:\", accuracy_score(y, y_pred))"
   ]
  },
  {
   "cell_type": "code",
   "execution_count": 9,
   "id": "7b5429ba",
   "metadata": {},
   "outputs": [
    {
     "name": "stdout",
     "output_type": "stream",
     "text": [
      "worst area              0.139357\n",
      "worst concave points    0.132225\n",
      "mean concave points     0.107046\n",
      "worst radius            0.082848\n",
      "worst perimeter         0.080850\n",
      "mean perimeter          0.067990\n",
      "mean concavity          0.066917\n",
      "mean area               0.060462\n",
      "worst concavity         0.037339\n",
      "mean radius             0.034843\n",
      "dtype: float64\n"
     ]
    }
   ],
   "source": [
    "feat_importances = pd.Series(rf.feature_importances_, index=data.feature_names)\n",
    "print(feat_importances.sort_values(ascending=False).head(10))"
   ]
  },
  {
   "cell_type": "code",
   "execution_count": 23,
   "id": "218aa73f",
   "metadata": {},
   "outputs": [
    {
     "data": {
      "image/png": "[encoded data removed]",
      "text/plain": [
       "<Figure size 800x500 with 1 Axes>"
      ]
     },
     "metadata": {},
     "output_type": "display_data"
    }
   ],
   "source": [
    "plt.figure(figsize=(8,5))\n",
    "plt.plot(n_trees[:len(oob_error)], oob_error, marker='o', linestyle='-')\n",
    "plt.title(\"OOB Error vs Number of Trees\", fontsize=14)\n",
    "plt.xlabel(\"Number of Trees\")\n",
    "plt.ylabel(\"OOB Error\")\n",
    "plt.grid(True)\n",
    "plt.show()"
   ]
  }
 ],
 "metadata": {
  "kernelspec": {
   "display_name": "Python 3",
   "language": "python",
   "name": "python3"
  },
  "language_info": {
   "codemirror_mode": {
    "name": "ipython",
    "version": 3
   },
   "file_extension": ".py",
   "mimetype": "text/x-python",
   "name": "python",
   "nbconvert_exporter": "python",
   "pygments_lexer": "ipython3",
   "version": "3.13.7"
  }
 },
 "nbformat": 4,
 "nbformat_minor": 5
}
